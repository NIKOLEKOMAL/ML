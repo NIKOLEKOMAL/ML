{
 "cells": [
  {
   "cell_type": "code",
   "execution_count": 1,
   "id": "45be86c0",
   "metadata": {
    "ExecuteTime": {
     "end_time": "2023-01-26T10:21:43.073740Z",
     "start_time": "2023-01-26T10:21:40.323197Z"
    }
   },
   "outputs": [],
   "source": [
    "import pandas as pd\n",
    "import numpy as np\n",
    "from sklearn.feature_selection import SelectKBest, chi2, RFE\n",
    "from sklearn .tree import DecisionTreeClassifier\n",
    "from sklearn.linear_model import LogisticRegression\n",
    "import warnings\n",
    "warnings.filterwarnings('ignore')"
   ]
  },
  {
   "cell_type": "code",
   "execution_count": 2,
   "id": "673ccd35",
   "metadata": {
    "ExecuteTime": {
     "end_time": "2023-01-26T10:21:43.152195Z",
     "start_time": "2023-01-26T10:21:43.078345Z"
    }
   },
   "outputs": [
    {
     "data": {
      "text/html": [
       "<div>\n",
       "<style scoped>\n",
       "    .dataframe tbody tr th:only-of-type {\n",
       "        vertical-align: middle;\n",
       "    }\n",
       "\n",
       "    .dataframe tbody tr th {\n",
       "        vertical-align: top;\n",
       "    }\n",
       "\n",
       "    .dataframe thead th {\n",
       "        text-align: right;\n",
       "    }\n",
       "</style>\n",
       "<table border=\"1\" class=\"dataframe\">\n",
       "  <thead>\n",
       "    <tr style=\"text-align: right;\">\n",
       "      <th></th>\n",
       "      <th>Unnamed: 0</th>\n",
       "      <th>preg</th>\n",
       "      <th>plas</th>\n",
       "      <th>pres</th>\n",
       "      <th>skin</th>\n",
       "      <th>test</th>\n",
       "      <th>mass</th>\n",
       "      <th>pedi</th>\n",
       "      <th>age</th>\n",
       "      <th>class</th>\n",
       "    </tr>\n",
       "  </thead>\n",
       "  <tbody>\n",
       "    <tr>\n",
       "      <th>0</th>\n",
       "      <td>0</td>\n",
       "      <td>6</td>\n",
       "      <td>148</td>\n",
       "      <td>72</td>\n",
       "      <td>35</td>\n",
       "      <td>0</td>\n",
       "      <td>33.6</td>\n",
       "      <td>0.627</td>\n",
       "      <td>50</td>\n",
       "      <td>1</td>\n",
       "    </tr>\n",
       "    <tr>\n",
       "      <th>1</th>\n",
       "      <td>1</td>\n",
       "      <td>1</td>\n",
       "      <td>85</td>\n",
       "      <td>66</td>\n",
       "      <td>29</td>\n",
       "      <td>0</td>\n",
       "      <td>26.6</td>\n",
       "      <td>0.351</td>\n",
       "      <td>31</td>\n",
       "      <td>0</td>\n",
       "    </tr>\n",
       "    <tr>\n",
       "      <th>2</th>\n",
       "      <td>2</td>\n",
       "      <td>8</td>\n",
       "      <td>183</td>\n",
       "      <td>64</td>\n",
       "      <td>0</td>\n",
       "      <td>0</td>\n",
       "      <td>23.3</td>\n",
       "      <td>0.672</td>\n",
       "      <td>32</td>\n",
       "      <td>1</td>\n",
       "    </tr>\n",
       "    <tr>\n",
       "      <th>3</th>\n",
       "      <td>3</td>\n",
       "      <td>1</td>\n",
       "      <td>89</td>\n",
       "      <td>66</td>\n",
       "      <td>23</td>\n",
       "      <td>94</td>\n",
       "      <td>28.1</td>\n",
       "      <td>0.167</td>\n",
       "      <td>21</td>\n",
       "      <td>0</td>\n",
       "    </tr>\n",
       "    <tr>\n",
       "      <th>4</th>\n",
       "      <td>4</td>\n",
       "      <td>0</td>\n",
       "      <td>137</td>\n",
       "      <td>40</td>\n",
       "      <td>35</td>\n",
       "      <td>168</td>\n",
       "      <td>43.1</td>\n",
       "      <td>2.288</td>\n",
       "      <td>33</td>\n",
       "      <td>1</td>\n",
       "    </tr>\n",
       "  </tbody>\n",
       "</table>\n",
       "</div>"
      ],
      "text/plain": [
       "   Unnamed: 0  preg  plas  pres  skin  test  mass   pedi  age  class\n",
       "0           0     6   148    72    35     0  33.6  0.627   50      1\n",
       "1           1     1    85    66    29     0  26.6  0.351   31      0\n",
       "2           2     8   183    64     0     0  23.3  0.672   32      1\n",
       "3           3     1    89    66    23    94  28.1  0.167   21      0\n",
       "4           4     0   137    40    35   168  43.1  2.288   33      1"
      ]
     },
     "execution_count": 2,
     "metadata": {},
     "output_type": "execute_result"
    }
   ],
   "source": [
    "df=pd.read_csv(r\"Pima.csv\")\n",
    "df.head()"
   ]
  },
  {
   "cell_type": "code",
   "execution_count": 3,
   "id": "e6a25009",
   "metadata": {
    "ExecuteTime": {
     "end_time": "2023-01-26T10:21:43.167461Z",
     "start_time": "2023-01-26T10:21:43.156350Z"
    }
   },
   "outputs": [],
   "source": [
    "x = df.iloc[:,:-1]\n",
    "y = df.iloc[:,-1]"
   ]
  },
  {
   "cell_type": "code",
   "execution_count": 4,
   "id": "4607d306",
   "metadata": {
    "ExecuteTime": {
     "end_time": "2023-01-26T10:21:43.246257Z",
     "start_time": "2023-01-26T10:21:43.172950Z"
    }
   },
   "outputs": [],
   "source": [
    "test = SelectKBest(score_func=chi2, k=5)\n",
    "chi = test.fit(x,y)"
   ]
  },
  {
   "cell_type": "code",
   "execution_count": 5,
   "id": "99778267",
   "metadata": {
    "ExecuteTime": {
     "end_time": "2023-01-26T10:21:43.277265Z",
     "start_time": "2023-01-26T10:21:43.251313Z"
    }
   },
   "outputs": [
    {
     "data": {
      "text/plain": [
       "array([ 200.96150445,  111.51969064, 1411.88704064,   17.60537322,\n",
       "         53.10803984, 2175.56527292,  127.66934333,    5.39268155,\n",
       "        181.30368904])"
      ]
     },
     "execution_count": 5,
     "metadata": {},
     "output_type": "execute_result"
    }
   ],
   "source": [
    "chi.scores_"
   ]
  },
  {
   "cell_type": "code",
   "execution_count": 6,
   "id": "0427372c",
   "metadata": {
    "ExecuteTime": {
     "end_time": "2023-01-26T10:21:43.292612Z",
     "start_time": "2023-01-26T10:21:43.281878Z"
    }
   },
   "outputs": [
    {
     "data": {
      "text/plain": [
       "Index(['Unnamed: 0', 'preg', 'plas', 'pres', 'skin', 'test', 'mass', 'pedi',\n",
       "       'age'],\n",
       "      dtype='object')"
      ]
     },
     "execution_count": 6,
     "metadata": {},
     "output_type": "execute_result"
    }
   ],
   "source": [
    "x.columns"
   ]
  },
  {
   "cell_type": "code",
   "execution_count": 7,
   "id": "361874a8",
   "metadata": {
    "ExecuteTime": {
     "end_time": "2023-01-26T10:21:43.308395Z",
     "start_time": "2023-01-26T10:21:43.297638Z"
    }
   },
   "outputs": [],
   "source": [
    "chidf = pd.DataFrame(chi.scores_).T\n",
    "chidf.columns=x.columns"
   ]
  },
  {
   "cell_type": "code",
   "execution_count": 8,
   "id": "590f9e05",
   "metadata": {
    "ExecuteTime": {
     "end_time": "2023-01-26T10:21:43.339595Z",
     "start_time": "2023-01-26T10:21:43.314400Z"
    }
   },
   "outputs": [
    {
     "data": {
      "text/html": [
       "<div>\n",
       "<style scoped>\n",
       "    .dataframe tbody tr th:only-of-type {\n",
       "        vertical-align: middle;\n",
       "    }\n",
       "\n",
       "    .dataframe tbody tr th {\n",
       "        vertical-align: top;\n",
       "    }\n",
       "\n",
       "    .dataframe thead th {\n",
       "        text-align: right;\n",
       "    }\n",
       "</style>\n",
       "<table border=\"1\" class=\"dataframe\">\n",
       "  <thead>\n",
       "    <tr style=\"text-align: right;\">\n",
       "      <th></th>\n",
       "      <th>Unnamed: 0</th>\n",
       "      <th>preg</th>\n",
       "      <th>plas</th>\n",
       "      <th>pres</th>\n",
       "      <th>skin</th>\n",
       "      <th>test</th>\n",
       "      <th>mass</th>\n",
       "      <th>pedi</th>\n",
       "      <th>age</th>\n",
       "    </tr>\n",
       "  </thead>\n",
       "  <tbody>\n",
       "    <tr>\n",
       "      <th>0</th>\n",
       "      <td>200.961504</td>\n",
       "      <td>111.519691</td>\n",
       "      <td>1411.887041</td>\n",
       "      <td>17.605373</td>\n",
       "      <td>53.10804</td>\n",
       "      <td>2175.565273</td>\n",
       "      <td>127.669343</td>\n",
       "      <td>5.392682</td>\n",
       "      <td>181.303689</td>\n",
       "    </tr>\n",
       "  </tbody>\n",
       "</table>\n",
       "</div>"
      ],
      "text/plain": [
       "   Unnamed: 0        preg         plas       pres      skin         test  \\\n",
       "0  200.961504  111.519691  1411.887041  17.605373  53.10804  2175.565273   \n",
       "\n",
       "         mass      pedi         age  \n",
       "0  127.669343  5.392682  181.303689  "
      ]
     },
     "execution_count": 8,
     "metadata": {},
     "output_type": "execute_result"
    }
   ],
   "source": [
    "chidf "
   ]
  },
  {
   "cell_type": "markdown",
   "id": "3ee9e5b8",
   "metadata": {},
   "source": [
    "# RFE"
   ]
  },
  {
   "cell_type": "code",
   "execution_count": 9,
   "id": "2a76d0b1",
   "metadata": {
    "ExecuteTime": {
     "end_time": "2023-01-26T10:21:43.556273Z",
     "start_time": "2023-01-26T10:21:43.343345Z"
    }
   },
   "outputs": [
    {
     "data": {
      "text/plain": [
       "RFE(estimator=LogisticRegression(), n_features_to_select=5)"
      ]
     },
     "execution_count": 9,
     "metadata": {},
     "output_type": "execute_result"
    }
   ],
   "source": [
    "lg = LogisticRegression()\n",
    "\n",
    "rfe = RFE(lg, n_features_to_select=5)\n",
    "\n",
    "rfe.fit(x,y)"
   ]
  },
  {
   "cell_type": "code",
   "execution_count": 10,
   "id": "218d1dea",
   "metadata": {
    "ExecuteTime": {
     "end_time": "2023-01-26T10:21:43.571610Z",
     "start_time": "2023-01-26T10:21:43.560367Z"
    }
   },
   "outputs": [
    {
     "data": {
      "text/plain": [
       "array([5, 1, 1, 2, 3, 4, 1, 1, 1])"
      ]
     },
     "execution_count": 10,
     "metadata": {},
     "output_type": "execute_result"
    }
   ],
   "source": [
    "rfe.ranking_"
   ]
  },
  {
   "cell_type": "code",
   "execution_count": 11,
   "id": "9a332dc8",
   "metadata": {
    "ExecuteTime": {
     "end_time": "2023-01-26T10:21:43.587176Z",
     "start_time": "2023-01-26T10:21:43.576760Z"
    }
   },
   "outputs": [
    {
     "data": {
      "text/plain": [
       "array([False,  True,  True, False, False, False,  True,  True,  True])"
      ]
     },
     "execution_count": 11,
     "metadata": {},
     "output_type": "execute_result"
    }
   ],
   "source": [
    "rfe.support_"
   ]
  },
  {
   "cell_type": "code",
   "execution_count": 12,
   "id": "0dfe8bcd",
   "metadata": {
    "ExecuteTime": {
     "end_time": "2023-01-26T10:21:43.617506Z",
     "start_time": "2023-01-26T10:21:43.592551Z"
    }
   },
   "outputs": [
    {
     "data": {
      "text/html": [
       "<div>\n",
       "<style scoped>\n",
       "    .dataframe tbody tr th:only-of-type {\n",
       "        vertical-align: middle;\n",
       "    }\n",
       "\n",
       "    .dataframe tbody tr th {\n",
       "        vertical-align: top;\n",
       "    }\n",
       "\n",
       "    .dataframe thead th {\n",
       "        text-align: right;\n",
       "    }\n",
       "</style>\n",
       "<table border=\"1\" class=\"dataframe\">\n",
       "  <thead>\n",
       "    <tr style=\"text-align: right;\">\n",
       "      <th></th>\n",
       "      <th>Unnamed: 0</th>\n",
       "      <th>preg</th>\n",
       "      <th>plas</th>\n",
       "      <th>pres</th>\n",
       "      <th>skin</th>\n",
       "      <th>test</th>\n",
       "      <th>mass</th>\n",
       "      <th>pedi</th>\n",
       "      <th>age</th>\n",
       "    </tr>\n",
       "  </thead>\n",
       "  <tbody>\n",
       "    <tr>\n",
       "      <th>0</th>\n",
       "      <td>5</td>\n",
       "      <td>1</td>\n",
       "      <td>1</td>\n",
       "      <td>2</td>\n",
       "      <td>3</td>\n",
       "      <td>4</td>\n",
       "      <td>1</td>\n",
       "      <td>1</td>\n",
       "      <td>1</td>\n",
       "    </tr>\n",
       "  </tbody>\n",
       "</table>\n",
       "</div>"
      ],
      "text/plain": [
       "   Unnamed: 0  preg  plas  pres  skin  test  mass  pedi  age\n",
       "0           5     1     1     2     3     4     1     1    1"
      ]
     },
     "execution_count": 12,
     "metadata": {},
     "output_type": "execute_result"
    }
   ],
   "source": [
    "rfe_df = pd.DataFrame(rfe.ranking_).T\n",
    "rfe_df.columns =x.columns\n",
    "rfe_df"
   ]
  },
  {
   "cell_type": "markdown",
   "id": "0753fa4e",
   "metadata": {},
   "source": [
    "# Tree Based approach"
   ]
  },
  {
   "cell_type": "code",
   "execution_count": 15,
   "id": "3a58a40d",
   "metadata": {
    "ExecuteTime": {
     "end_time": "2023-01-26T10:23:15.328199Z",
     "start_time": "2023-01-26T10:23:15.320046Z"
    }
   },
   "outputs": [],
   "source": [
    "dt = DecisionTreeClassifier (criterion='entropy')"
   ]
  },
  {
   "cell_type": "code",
   "execution_count": 16,
   "id": "e0c17555",
   "metadata": {
    "ExecuteTime": {
     "end_time": "2023-01-26T10:23:34.428519Z",
     "start_time": "2023-01-26T10:23:34.387643Z"
    }
   },
   "outputs": [
    {
     "data": {
      "text/plain": [
       "DecisionTreeClassifier(criterion='entropy')"
      ]
     },
     "execution_count": 16,
     "metadata": {},
     "output_type": "execute_result"
    }
   ],
   "source": [
    "dt.fit(x,y)"
   ]
  },
  {
   "cell_type": "code",
   "execution_count": 20,
   "id": "bad35acb",
   "metadata": {
    "ExecuteTime": {
     "end_time": "2023-01-26T10:27:58.155378Z",
     "start_time": "2023-01-26T10:27:58.116084Z"
    }
   },
   "outputs": [
    {
     "data": {
      "text/html": [
       "<div>\n",
       "<style scoped>\n",
       "    .dataframe tbody tr th:only-of-type {\n",
       "        vertical-align: middle;\n",
       "    }\n",
       "\n",
       "    .dataframe tbody tr th {\n",
       "        vertical-align: top;\n",
       "    }\n",
       "\n",
       "    .dataframe thead th {\n",
       "        text-align: right;\n",
       "    }\n",
       "</style>\n",
       "<table border=\"1\" class=\"dataframe\">\n",
       "  <thead>\n",
       "    <tr style=\"text-align: right;\">\n",
       "      <th></th>\n",
       "      <th>Unnamed: 0</th>\n",
       "      <th>preg</th>\n",
       "      <th>plas</th>\n",
       "      <th>pres</th>\n",
       "      <th>skin</th>\n",
       "      <th>test</th>\n",
       "      <th>mass</th>\n",
       "      <th>pedi</th>\n",
       "      <th>age</th>\n",
       "    </tr>\n",
       "  </thead>\n",
       "  <tbody>\n",
       "    <tr>\n",
       "      <th>0</th>\n",
       "      <td>0.106486</td>\n",
       "      <td>0.055762</td>\n",
       "      <td>0.260782</td>\n",
       "      <td>0.073946</td>\n",
       "      <td>0.031982</td>\n",
       "      <td>0.027522</td>\n",
       "      <td>0.189699</td>\n",
       "      <td>0.129037</td>\n",
       "      <td>0.124786</td>\n",
       "    </tr>\n",
       "  </tbody>\n",
       "</table>\n",
       "</div>"
      ],
      "text/plain": [
       "   Unnamed: 0      preg      plas      pres      skin      test      mass  \\\n",
       "0    0.106486  0.055762  0.260782  0.073946  0.031982  0.027522  0.189699   \n",
       "\n",
       "       pedi       age  \n",
       "0  0.129037  0.124786  "
      ]
     },
     "execution_count": 20,
     "metadata": {},
     "output_type": "execute_result"
    }
   ],
   "source": [
    "dt_dt=pd.DataFrame(dt.feature_importances_).T\n",
    "dt_dt.columns = x.columns\n",
    "dt_dt"
   ]
  },
  {
   "cell_type": "markdown",
   "id": "2f161529",
   "metadata": {},
   "source": [
    "- univariate selection:\n",
    "   \n",
    "   -Test, plasma, Age,Mass\n",
    "   \n",
    " - RFE\n",
    "  \n",
    "    -preg,plas,mass,pedi,age\n",
    "    \n",
    "  - Tree\n",
    "     \n",
    "    -plasma,Mass,pedi,age"
   ]
  },
  {
   "cell_type": "markdown",
   "id": "3b4e6ea7",
   "metadata": {},
   "source": [
    "# cross validation"
   ]
  },
  {
   "cell_type": "code",
   "execution_count": 21,
   "id": "2393110d",
   "metadata": {
    "ExecuteTime": {
     "end_time": "2023-01-26T10:39:17.959096Z",
     "start_time": "2023-01-26T10:39:17.939354Z"
    }
   },
   "outputs": [],
   "source": [
    "from sklearn.model_selection import KFold, LeaveOneOut, cross_val_score"
   ]
  },
  {
   "cell_type": "code",
   "execution_count": 24,
   "id": "a6edb20f",
   "metadata": {
    "ExecuteTime": {
     "end_time": "2023-01-26T10:45:02.621556Z",
     "start_time": "2023-01-26T10:45:02.107443Z"
    }
   },
   "outputs": [],
   "source": [
    "kf =KFold (n_splits=10, random_state=1, shuffle=True)\n",
    "score = cross_val_score(LogisticRegression(),x,y,cv=kf)"
   ]
  },
  {
   "cell_type": "code",
   "execution_count": 26,
   "id": "03136281",
   "metadata": {
    "ExecuteTime": {
     "end_time": "2023-01-26T10:45:44.729686Z",
     "start_time": "2023-01-26T10:45:44.703259Z"
    }
   },
   "outputs": [
    {
     "data": {
      "text/plain": [
       "0.7474196855775802"
      ]
     },
     "execution_count": 26,
     "metadata": {},
     "output_type": "execute_result"
    }
   ],
   "source": [
    "score.mean()"
   ]
  },
  {
   "cell_type": "code",
   "execution_count": 27,
   "id": "16b620a2",
   "metadata": {
    "ExecuteTime": {
     "end_time": "2023-01-26T10:48:31.426191Z",
     "start_time": "2023-01-26T10:48:31.419190Z"
    }
   },
   "outputs": [],
   "source": [
    "#leave on out"
   ]
  },
  {
   "cell_type": "code",
   "execution_count": 28,
   "id": "99a54c2f",
   "metadata": {
    "ExecuteTime": {
     "end_time": "2023-01-26T10:49:14.367986Z",
     "start_time": "2023-01-26T10:49:14.355445Z"
    }
   },
   "outputs": [
    {
     "data": {
      "text/plain": [
       "(768, 10)"
      ]
     },
     "execution_count": 28,
     "metadata": {},
     "output_type": "execute_result"
    }
   ],
   "source": [
    "df.shape"
   ]
  },
  {
   "cell_type": "code",
   "execution_count": 30,
   "id": "f4a83144",
   "metadata": {
    "ExecuteTime": {
     "end_time": "2023-01-26T10:53:26.881009Z",
     "start_time": "2023-01-26T10:52:53.310316Z"
    }
   },
   "outputs": [
    {
     "data": {
      "text/plain": [
       "LeaveOneOut()"
      ]
     },
     "execution_count": 30,
     "metadata": {},
     "output_type": "execute_result"
    }
   ],
   "source": [
    "le = LeaveOneOut()\n",
    "le_score = cross_val_score(LogisticRegression(),x,y,cv= le)\n",
    "le"
   ]
  },
  {
   "cell_type": "code",
   "execution_count": 31,
   "id": "7c38041d",
   "metadata": {
    "ExecuteTime": {
     "end_time": "2023-01-26T10:54:06.106634Z",
     "start_time": "2023-01-26T10:54:06.079125Z"
    }
   },
   "outputs": [
    {
     "data": {
      "text/plain": [
       "array([1., 1., 1., 1., 1., 1., 0., 0., 1., 0., 1., 1., 0., 0., 1., 0., 0.,\n",
       "       0., 0., 0., 1., 1., 1., 0., 1., 1., 1., 1., 1., 1., 1., 1., 1., 1.,\n",
       "       0., 1., 0., 0., 0., 0., 0., 0., 1., 1., 0., 1., 0., 1., 0., 1., 1.,\n",
       "       1., 1., 1., 0., 1., 1., 1., 0., 1., 1., 0., 1., 1., 1., 1., 0., 0.,\n",
       "       1., 1., 0., 0., 1., 1., 1., 1., 1., 1., 1., 1., 1., 0., 1., 1., 1.,\n",
       "       1., 0., 1., 1., 1., 1., 1., 1., 0., 1., 1., 1., 1., 1., 0., 1., 1.,\n",
       "       1., 1., 1., 1., 1., 1., 1., 0., 1., 1., 1., 1., 1., 1., 0., 1., 1.,\n",
       "       1., 1., 1., 1., 0., 0., 0., 1., 1., 0., 0., 1., 1., 1., 1., 1., 1.,\n",
       "       1., 1., 1., 1., 1., 1., 1., 0., 0., 1., 1., 1., 0., 1., 1., 1., 1.,\n",
       "       1., 1., 1., 1., 1., 1., 1., 1., 1., 1., 1., 0., 0., 1., 1., 1., 1.,\n",
       "       0., 1., 1., 1., 1., 1., 1., 1., 1., 1., 1., 0., 1., 1., 1., 1., 1.,\n",
       "       1., 1., 0., 1., 1., 1., 1., 0., 1., 1., 0., 0., 1., 1., 1., 1., 1.,\n",
       "       1., 1., 1., 1., 1., 1., 1., 1., 0., 1., 1., 1., 0., 1., 0., 0., 1.,\n",
       "       1., 0., 0., 1., 1., 1., 1., 0., 1., 0., 1., 1., 1., 1., 1., 1., 0.,\n",
       "       1., 1., 1., 1., 0., 1., 0., 1., 0., 1., 0., 1., 1., 1., 1., 1., 0.,\n",
       "       0., 1., 1., 0., 1., 0., 1., 1., 1., 0., 1., 1., 1., 1., 1., 1., 1.,\n",
       "       1., 1., 0., 1., 0., 1., 1., 1., 0., 1., 1., 1., 0., 1., 0., 0., 1.,\n",
       "       1., 1., 0., 1., 0., 1., 0., 0., 1., 0., 1., 1., 1., 1., 0., 1., 1.,\n",
       "       1., 1., 0., 0., 1., 1., 0., 1., 1., 1., 1., 1., 1., 1., 1., 0., 0.,\n",
       "       1., 1., 1., 0., 0., 0., 1., 1., 1., 1., 1., 1., 0., 0., 0., 1., 1.,\n",
       "       1., 1., 1., 1., 1., 1., 0., 1., 1., 0., 1., 1., 1., 1., 1., 1., 0.,\n",
       "       1., 1., 1., 1., 1., 1., 1., 1., 1., 0., 1., 1., 0., 1., 1., 1., 1.,\n",
       "       1., 1., 1., 1., 1., 1., 1., 1., 1., 1., 1., 1., 0., 0., 0., 1., 1.,\n",
       "       1., 1., 1., 1., 0., 1., 0., 1., 1., 0., 1., 0., 1., 1., 0., 0., 1.,\n",
       "       1., 1., 1., 1., 0., 0., 0., 1., 1., 1., 1., 0., 1., 1., 1., 1., 1.,\n",
       "       1., 1., 1., 1., 0., 0., 1., 1., 1., 1., 1., 0., 1., 1., 1., 0., 1.,\n",
       "       1., 0., 0., 1., 1., 1., 0., 1., 1., 0., 1., 0., 1., 1., 1., 1., 1.,\n",
       "       1., 1., 1., 1., 1., 1., 1., 1., 1., 1., 0., 0., 1., 1., 1., 1., 1.,\n",
       "       0., 1., 1., 1., 1., 1., 1., 1., 1., 0., 1., 0., 1., 0., 1., 1., 1.,\n",
       "       1., 1., 0., 1., 1., 1., 1., 1., 1., 0., 1., 1., 1., 1., 1., 1., 1.,\n",
       "       0., 1., 1., 1., 1., 1., 0., 1., 1., 1., 1., 1., 0., 1., 1., 1., 1.,\n",
       "       1., 1., 1., 1., 1., 1., 1., 1., 1., 1., 1., 1., 0., 0., 0., 0., 1.,\n",
       "       1., 1., 1., 1., 1., 1., 1., 1., 1., 1., 1., 1., 1., 1., 0., 1., 0.,\n",
       "       1., 1., 1., 1., 1., 1., 1., 1., 0., 1., 1., 1., 1., 1., 1., 1., 1.,\n",
       "       1., 1., 0., 1., 1., 1., 0., 1., 1., 1., 1., 1., 1., 1., 0., 1., 1.,\n",
       "       1., 1., 1., 0., 1., 1., 0., 1., 0., 1., 1., 1., 1., 1., 1., 1., 0.,\n",
       "       1., 1., 1., 1., 1., 1., 0., 0., 1., 1., 0., 1., 1., 1., 1., 1., 1.,\n",
       "       1., 0., 1., 1., 1., 1., 1., 1., 1., 0., 1., 1., 1., 0., 0., 1., 1.,\n",
       "       0., 1., 0., 1., 1., 1., 1., 1., 1., 1., 1., 1., 1., 0., 0., 1., 0.,\n",
       "       0., 0., 1., 0., 0., 1., 0., 0., 1., 1., 0., 1., 1., 0., 1., 0., 1.,\n",
       "       1., 1., 1., 0., 1., 1., 1., 1., 1., 0., 1., 1., 1., 0., 1., 0., 0.,\n",
       "       1., 1., 1., 1., 0., 0., 0., 1., 1., 1., 1., 0., 0., 1., 1., 1., 1.,\n",
       "       1., 1., 1., 1., 1., 0., 1., 1., 0., 1., 1., 1., 1., 1., 1., 1., 0.,\n",
       "       0., 0., 1., 1., 1., 1., 1., 1., 0., 1., 1., 1., 0., 0., 1., 0., 1.,\n",
       "       1., 0., 0., 1., 1., 1., 1., 0., 1., 0., 1., 1., 1., 1., 1., 1., 1.,\n",
       "       1., 0., 1.])"
      ]
     },
     "execution_count": 31,
     "metadata": {},
     "output_type": "execute_result"
    }
   ],
   "source": [
    "le_score"
   ]
  },
  {
   "cell_type": "code",
   "execution_count": 32,
   "id": "c752778c",
   "metadata": {
    "ExecuteTime": {
     "end_time": "2023-01-26T10:57:45.469781Z",
     "start_time": "2023-01-26T10:57:45.457783Z"
    }
   },
   "outputs": [
    {
     "data": {
      "text/plain": [
       "0.7552083333333334"
      ]
     },
     "execution_count": 32,
     "metadata": {},
     "output_type": "execute_result"
    }
   ],
   "source": [
    "le_score.mean()"
   ]
  },
  {
   "cell_type": "code",
   "execution_count": null,
   "id": "94360b89",
   "metadata": {},
   "outputs": [],
   "source": []
  }
 ],
 "metadata": {
  "kernelspec": {
   "display_name": "Python 3 (ipykernel)",
   "language": "python",
   "name": "python3"
  },
  "language_info": {
   "codemirror_mode": {
    "name": "ipython",
    "version": 3
   },
   "file_extension": ".py",
   "mimetype": "text/x-python",
   "name": "python",
   "nbconvert_exporter": "python",
   "pygments_lexer": "ipython3",
   "version": "3.9.13"
  }
 },
 "nbformat": 4,
 "nbformat_minor": 5
}
