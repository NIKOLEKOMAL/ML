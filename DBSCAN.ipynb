{
 "cells": [
  {
   "cell_type": "code",
   "execution_count": 1,
   "id": "4aa3b008",
   "metadata": {
    "ExecuteTime": {
     "end_time": "2023-01-03T09:16:10.980665Z",
     "start_time": "2023-01-03T09:16:07.625255Z"
    }
   },
   "outputs": [],
   "source": [
    "import pandas as pd\n",
    "import numpy as np\n",
    "import matplotlib.pyplot as plt\n",
    "from sklearn.preprocessing import StandardScaler\n",
    "%matplotlib inline"
   ]
  },
  {
   "cell_type": "code",
   "execution_count": 3,
   "id": "b8d89282",
   "metadata": {
    "ExecuteTime": {
     "end_time": "2023-01-03T09:18:21.726457Z",
     "start_time": "2023-01-03T09:18:21.668692Z"
    }
   },
   "outputs": [
    {
     "data": {
      "text/html": [
       "<div>\n",
       "<style scoped>\n",
       "    .dataframe tbody tr th:only-of-type {\n",
       "        vertical-align: middle;\n",
       "    }\n",
       "\n",
       "    .dataframe tbody tr th {\n",
       "        vertical-align: top;\n",
       "    }\n",
       "\n",
       "    .dataframe thead th {\n",
       "        text-align: right;\n",
       "    }\n",
       "</style>\n",
       "<table border=\"1\" class=\"dataframe\">\n",
       "  <thead>\n",
       "    <tr style=\"text-align: right;\">\n",
       "      <th></th>\n",
       "      <th>Region</th>\n",
       "      <th>Fresh</th>\n",
       "      <th>Milk</th>\n",
       "      <th>Grocery</th>\n",
       "      <th>Frozen</th>\n",
       "      <th>Detergents_Paper</th>\n",
       "      <th>Delicassen</th>\n",
       "    </tr>\n",
       "    <tr>\n",
       "      <th>Channel</th>\n",
       "      <th></th>\n",
       "      <th></th>\n",
       "      <th></th>\n",
       "      <th></th>\n",
       "      <th></th>\n",
       "      <th></th>\n",
       "      <th></th>\n",
       "    </tr>\n",
       "  </thead>\n",
       "  <tbody>\n",
       "    <tr>\n",
       "      <th>2</th>\n",
       "      <td>3</td>\n",
       "      <td>12669</td>\n",
       "      <td>9656</td>\n",
       "      <td>7561</td>\n",
       "      <td>214</td>\n",
       "      <td>2674</td>\n",
       "      <td>1338</td>\n",
       "    </tr>\n",
       "    <tr>\n",
       "      <th>2</th>\n",
       "      <td>3</td>\n",
       "      <td>7057</td>\n",
       "      <td>9810</td>\n",
       "      <td>9568</td>\n",
       "      <td>1762</td>\n",
       "      <td>3293</td>\n",
       "      <td>1776</td>\n",
       "    </tr>\n",
       "    <tr>\n",
       "      <th>2</th>\n",
       "      <td>3</td>\n",
       "      <td>6353</td>\n",
       "      <td>8808</td>\n",
       "      <td>7684</td>\n",
       "      <td>2405</td>\n",
       "      <td>3516</td>\n",
       "      <td>7844</td>\n",
       "    </tr>\n",
       "    <tr>\n",
       "      <th>1</th>\n",
       "      <td>3</td>\n",
       "      <td>13265</td>\n",
       "      <td>1196</td>\n",
       "      <td>4221</td>\n",
       "      <td>6404</td>\n",
       "      <td>507</td>\n",
       "      <td>1788</td>\n",
       "    </tr>\n",
       "    <tr>\n",
       "      <th>2</th>\n",
       "      <td>3</td>\n",
       "      <td>22615</td>\n",
       "      <td>5410</td>\n",
       "      <td>7198</td>\n",
       "      <td>3915</td>\n",
       "      <td>1777</td>\n",
       "      <td>5185</td>\n",
       "    </tr>\n",
       "    <tr>\n",
       "      <th>...</th>\n",
       "      <td>...</td>\n",
       "      <td>...</td>\n",
       "      <td>...</td>\n",
       "      <td>...</td>\n",
       "      <td>...</td>\n",
       "      <td>...</td>\n",
       "      <td>...</td>\n",
       "    </tr>\n",
       "    <tr>\n",
       "      <th>1</th>\n",
       "      <td>3</td>\n",
       "      <td>29703</td>\n",
       "      <td>12051</td>\n",
       "      <td>16027</td>\n",
       "      <td>13135</td>\n",
       "      <td>182</td>\n",
       "      <td>2204</td>\n",
       "    </tr>\n",
       "    <tr>\n",
       "      <th>1</th>\n",
       "      <td>3</td>\n",
       "      <td>39228</td>\n",
       "      <td>1431</td>\n",
       "      <td>764</td>\n",
       "      <td>4510</td>\n",
       "      <td>93</td>\n",
       "      <td>2346</td>\n",
       "    </tr>\n",
       "    <tr>\n",
       "      <th>2</th>\n",
       "      <td>3</td>\n",
       "      <td>14531</td>\n",
       "      <td>15488</td>\n",
       "      <td>30243</td>\n",
       "      <td>437</td>\n",
       "      <td>14841</td>\n",
       "      <td>1867</td>\n",
       "    </tr>\n",
       "    <tr>\n",
       "      <th>1</th>\n",
       "      <td>3</td>\n",
       "      <td>10290</td>\n",
       "      <td>1981</td>\n",
       "      <td>2232</td>\n",
       "      <td>1038</td>\n",
       "      <td>168</td>\n",
       "      <td>2125</td>\n",
       "    </tr>\n",
       "    <tr>\n",
       "      <th>1</th>\n",
       "      <td>3</td>\n",
       "      <td>2787</td>\n",
       "      <td>1698</td>\n",
       "      <td>2510</td>\n",
       "      <td>65</td>\n",
       "      <td>477</td>\n",
       "      <td>52</td>\n",
       "    </tr>\n",
       "  </tbody>\n",
       "</table>\n",
       "<p>440 rows × 7 columns</p>\n",
       "</div>"
      ],
      "text/plain": [
       "         Region  Fresh   Milk  Grocery  Frozen  Detergents_Paper  Delicassen\n",
       "Channel                                                                     \n",
       "2             3  12669   9656     7561     214              2674        1338\n",
       "2             3   7057   9810     9568    1762              3293        1776\n",
       "2             3   6353   8808     7684    2405              3516        7844\n",
       "1             3  13265   1196     4221    6404               507        1788\n",
       "2             3  22615   5410     7198    3915              1777        5185\n",
       "...         ...    ...    ...      ...     ...               ...         ...\n",
       "1             3  29703  12051    16027   13135               182        2204\n",
       "1             3  39228   1431      764    4510                93        2346\n",
       "2             3  14531  15488    30243     437             14841        1867\n",
       "1             3  10290   1981     2232    1038               168        2125\n",
       "1             3   2787   1698     2510      65               477          52\n",
       "\n",
       "[440 rows x 7 columns]"
      ]
     },
     "execution_count": 3,
     "metadata": {},
     "output_type": "execute_result"
    }
   ],
   "source": [
    "df= pd.read_csv('Wholesale customers data.csv', index_col=0)\n",
    "df"
   ]
  },
  {
   "cell_type": "code",
   "execution_count": 4,
   "id": "20974350",
   "metadata": {
    "ExecuteTime": {
     "end_time": "2023-01-03T09:19:14.232959Z",
     "start_time": "2023-01-03T09:19:14.154256Z"
    }
   },
   "outputs": [
    {
     "data": {
      "text/html": [
       "<div>\n",
       "<style scoped>\n",
       "    .dataframe tbody tr th:only-of-type {\n",
       "        vertical-align: middle;\n",
       "    }\n",
       "\n",
       "    .dataframe tbody tr th {\n",
       "        vertical-align: top;\n",
       "    }\n",
       "\n",
       "    .dataframe thead th {\n",
       "        text-align: right;\n",
       "    }\n",
       "</style>\n",
       "<table border=\"1\" class=\"dataframe\">\n",
       "  <thead>\n",
       "    <tr style=\"text-align: right;\">\n",
       "      <th></th>\n",
       "      <th>Region</th>\n",
       "      <th>Fresh</th>\n",
       "      <th>Milk</th>\n",
       "      <th>Grocery</th>\n",
       "      <th>Frozen</th>\n",
       "      <th>Detergents_Paper</th>\n",
       "      <th>Delicassen</th>\n",
       "    </tr>\n",
       "  </thead>\n",
       "  <tbody>\n",
       "    <tr>\n",
       "      <th>count</th>\n",
       "      <td>440.000000</td>\n",
       "      <td>440.000000</td>\n",
       "      <td>440.000000</td>\n",
       "      <td>440.000000</td>\n",
       "      <td>440.000000</td>\n",
       "      <td>440.000000</td>\n",
       "      <td>440.000000</td>\n",
       "    </tr>\n",
       "    <tr>\n",
       "      <th>mean</th>\n",
       "      <td>2.543182</td>\n",
       "      <td>12000.297727</td>\n",
       "      <td>5796.265909</td>\n",
       "      <td>7951.277273</td>\n",
       "      <td>3071.931818</td>\n",
       "      <td>2881.493182</td>\n",
       "      <td>1524.870455</td>\n",
       "    </tr>\n",
       "    <tr>\n",
       "      <th>std</th>\n",
       "      <td>0.774272</td>\n",
       "      <td>12647.328865</td>\n",
       "      <td>7380.377175</td>\n",
       "      <td>9503.162829</td>\n",
       "      <td>4854.673333</td>\n",
       "      <td>4767.854448</td>\n",
       "      <td>2820.105937</td>\n",
       "    </tr>\n",
       "    <tr>\n",
       "      <th>min</th>\n",
       "      <td>1.000000</td>\n",
       "      <td>3.000000</td>\n",
       "      <td>55.000000</td>\n",
       "      <td>3.000000</td>\n",
       "      <td>25.000000</td>\n",
       "      <td>3.000000</td>\n",
       "      <td>3.000000</td>\n",
       "    </tr>\n",
       "    <tr>\n",
       "      <th>25%</th>\n",
       "      <td>2.000000</td>\n",
       "      <td>3127.750000</td>\n",
       "      <td>1533.000000</td>\n",
       "      <td>2153.000000</td>\n",
       "      <td>742.250000</td>\n",
       "      <td>256.750000</td>\n",
       "      <td>408.250000</td>\n",
       "    </tr>\n",
       "    <tr>\n",
       "      <th>50%</th>\n",
       "      <td>3.000000</td>\n",
       "      <td>8504.000000</td>\n",
       "      <td>3627.000000</td>\n",
       "      <td>4755.500000</td>\n",
       "      <td>1526.000000</td>\n",
       "      <td>816.500000</td>\n",
       "      <td>965.500000</td>\n",
       "    </tr>\n",
       "    <tr>\n",
       "      <th>75%</th>\n",
       "      <td>3.000000</td>\n",
       "      <td>16933.750000</td>\n",
       "      <td>7190.250000</td>\n",
       "      <td>10655.750000</td>\n",
       "      <td>3554.250000</td>\n",
       "      <td>3922.000000</td>\n",
       "      <td>1820.250000</td>\n",
       "    </tr>\n",
       "    <tr>\n",
       "      <th>max</th>\n",
       "      <td>3.000000</td>\n",
       "      <td>112151.000000</td>\n",
       "      <td>73498.000000</td>\n",
       "      <td>92780.000000</td>\n",
       "      <td>60869.000000</td>\n",
       "      <td>40827.000000</td>\n",
       "      <td>47943.000000</td>\n",
       "    </tr>\n",
       "  </tbody>\n",
       "</table>\n",
       "</div>"
      ],
      "text/plain": [
       "           Region          Fresh          Milk       Grocery        Frozen  \\\n",
       "count  440.000000     440.000000    440.000000    440.000000    440.000000   \n",
       "mean     2.543182   12000.297727   5796.265909   7951.277273   3071.931818   \n",
       "std      0.774272   12647.328865   7380.377175   9503.162829   4854.673333   \n",
       "min      1.000000       3.000000     55.000000      3.000000     25.000000   \n",
       "25%      2.000000    3127.750000   1533.000000   2153.000000    742.250000   \n",
       "50%      3.000000    8504.000000   3627.000000   4755.500000   1526.000000   \n",
       "75%      3.000000   16933.750000   7190.250000  10655.750000   3554.250000   \n",
       "max      3.000000  112151.000000  73498.000000  92780.000000  60869.000000   \n",
       "\n",
       "       Detergents_Paper    Delicassen  \n",
       "count        440.000000    440.000000  \n",
       "mean        2881.493182   1524.870455  \n",
       "std         4767.854448   2820.105937  \n",
       "min            3.000000      3.000000  \n",
       "25%          256.750000    408.250000  \n",
       "50%          816.500000    965.500000  \n",
       "75%         3922.000000   1820.250000  \n",
       "max        40827.000000  47943.000000  "
      ]
     },
     "execution_count": 4,
     "metadata": {},
     "output_type": "execute_result"
    }
   ],
   "source": [
    "df.describe()"
   ]
  },
  {
   "cell_type": "code",
   "execution_count": 10,
   "id": "10200f94",
   "metadata": {
    "ExecuteTime": {
     "end_time": "2023-01-03T09:44:48.396625Z",
     "start_time": "2023-01-03T09:44:48.388624Z"
    }
   },
   "outputs": [],
   "source": [
    "plt.rcParams['figure.figsize']=(10,5)\n",
    "plt.rcParams['figure.dpi']=250"
   ]
  },
  {
   "cell_type": "code",
   "execution_count": 11,
   "id": "8c0652d9",
   "metadata": {
    "ExecuteTime": {
     "end_time": "2023-01-03T09:45:51.948998Z",
     "start_time": "2023-01-03T09:45:51.194567Z"
    }
   },
   "outputs": [
    {
     "data": {
      "text/plain": [
       "<AxesSubplot:>"
      ]
     },
     "execution_count": 11,
     "metadata": {},
     "output_type": "execute_result"
    },
    {
     "data": {
      "image/png": "[encoded data removed]",
      "text/plain": [
       "<Figure size 2500x1250 with 1 Axes>"
      ]
     },
     "metadata": {},
     "output_type": "display_data"
    }
   ],
   "source": [
    "df.boxplot()"
   ]
  },
  {
   "cell_type": "code",
   "execution_count": null,
   "id": "04061157",
   "metadata": {
    "ExecuteTime": {
     "end_time": "2023-01-03T09:52:11.250403Z",
     "start_time": "2023-01-03T09:52:11.250403Z"
    }
   },
   "outputs": [],
   "source": [
    "import seaborn as sns\n",
    "\n",
    "sns.pairplot(df)"
   ]
  },
  {
   "cell_type": "code",
   "execution_count": 17,
   "id": "04229c0a",
   "metadata": {
    "ExecuteTime": {
     "end_time": "2023-01-03T09:57:19.830550Z",
     "start_time": "2023-01-03T09:57:19.796244Z"
    }
   },
   "outputs": [
    {
     "data": {
      "text/plain": [
       "array([[ 0.59066829,  0.05293319,  0.52356777, ..., -0.58936716,\n",
       "        -0.04356873, -0.06633906],\n",
       "       [ 0.59066829, -0.39130197,  0.54445767, ..., -0.27013618,\n",
       "         0.08640684,  0.08915105],\n",
       "       [ 0.59066829, -0.44702926,  0.40853771, ..., -0.13753572,\n",
       "         0.13323164,  2.24329255],\n",
       "       ...,\n",
       "       [ 0.59066829,  0.20032554,  1.31467078, ..., -0.54337975,\n",
       "         2.51121768,  0.12145607],\n",
       "       [ 0.59066829, -0.13538389, -0.51753572, ..., -0.41944059,\n",
       "        -0.56977032,  0.21304614],\n",
       "       [ 0.59066829, -0.72930698, -0.5559243 , ..., -0.62009417,\n",
       "        -0.50488752, -0.52286938]])"
      ]
     },
     "execution_count": 17,
     "metadata": {},
     "output_type": "execute_result"
    }
   ],
   "source": [
    "sc= StandardScaler()\n",
    "\n",
    "x= sc.fit_transform(df)\n",
    "x"
   ]
  },
  {
   "cell_type": "code",
   "execution_count": 19,
   "id": "e99e8e60",
   "metadata": {
    "ExecuteTime": {
     "end_time": "2023-01-03T09:59:28.708505Z",
     "start_time": "2023-01-03T09:59:28.701183Z"
    }
   },
   "outputs": [],
   "source": [
    "from sklearn.cluster import DBSCAN"
   ]
  },
  {
   "cell_type": "code",
   "execution_count": 20,
   "id": "27c1fc96",
   "metadata": {
    "ExecuteTime": {
     "end_time": "2023-01-03T10:00:21.249831Z",
     "start_time": "2023-01-03T10:00:21.218518Z"
    }
   },
   "outputs": [
    {
     "data": {
      "text/plain": [
       "DBSCAN()"
      ]
     },
     "execution_count": 20,
     "metadata": {},
     "output_type": "execute_result"
    }
   ],
   "source": [
    "db= DBSCAN()\n",
    "db.fit(x)"
   ]
  },
  {
   "cell_type": "code",
   "execution_count": 21,
   "id": "b0d3c629",
   "metadata": {
    "ExecuteTime": {
     "end_time": "2023-01-03T10:00:51.651817Z",
     "start_time": "2023-01-03T10:00:51.632730Z"
    }
   },
   "outputs": [
    {
     "data": {
      "text/plain": [
       "array([ 6, -1, -1,  0, -1,  6,  0,  3,  0, -1, -1,  0, -1, -1, -1,  0,  2,\n",
       "       -1,  6,  0, -1,  0, -1, -1, -1,  0,  0,  0, -1,  1, -1,  0,  0, -1,\n",
       "        0,  3, -1, -1, -1, -1, -1, -1, -1, -1, -1, -1, -1, -1, -1, -1,  0,\n",
       "        0, -1,  2,  0,  0, -1, -1,  0,  3,  0, -1, -1, -1,  0, -1, -1, -1,\n",
       "       -1,  0, -1, -1, -1, -1,  3,  0, -1, -1,  0,  0,  0,  2, -1,  0,  0,\n",
       "       -1, -1, -1, -1, -1,  0,  0, -1, -1,  2,  0, -1,  0,  0,  0, -1, -1,\n",
       "        3, -1,  0,  0,  3, -1, -1, -1,  0, -1, -1,  0,  0,  0,  0,  0,  0,\n",
       "        0,  0,  0,  0, -1, -1, -1,  0, -1, -1,  1,  0,  0,  0,  0,  0,  0,\n",
       "       -1, -1, -1,  0,  6, -1, -1,  0,  0, -1,  0,  0,  0,  0,  0,  0,  0,\n",
       "       -1,  0, -1, -1,  0,  3,  2,  3,  0,  0, -1, -1, -1, -1,  0,  0,  0,\n",
       "        2, -1,  0, -1,  0,  3, -1, -1, -1, -1,  6, -1,  2, -1,  0, -1,  0,\n",
       "       -1, -1, -1, -1,  0,  0, -1,  0, -1, -1, -1, -1,  4, -1, -1, -1,  4,\n",
       "        4, -1,  4, -1, -1, -1,  4, -1,  4, -1, -1, -1, -1,  4, -1,  4,  4,\n",
       "       -1,  5, -1,  4,  4, -1,  4, -1,  5, -1, -1, -1, -1, -1, -1,  4, -1,\n",
       "        4, -1, -1, -1,  4, -1, -1, -1,  4,  4,  4,  5,  4, -1,  5, -1, -1,\n",
       "       -1,  4, -1, -1, -1,  4,  5, -1, -1, -1, -1, -1, -1, -1,  4,  5, -1,\n",
       "       -1, -1,  0,  0, -1, -1,  0, -1,  0,  6, -1, -1, -1,  1,  0,  0,  0,\n",
       "        1,  0,  0,  0, -1, -1, -1, -1, -1, -1, -1, -1, -1, -1, -1, -1, -1,\n",
       "       -1, -1,  7, -1, -1, -1, -1, -1, -1, -1,  7, -1, -1, -1, -1,  7, -1,\n",
       "       -1, -1, -1,  7, -1, -1, -1,  7, -1, -1, -1, -1, -1, -1, -1, -1, -1,\n",
       "       -1,  3, -1, -1,  0, -1, -1, -1,  0, -1,  0, -1,  0, -1, -1,  0,  0,\n",
       "       -1, -1,  0,  0,  0,  0,  0,  0, -1,  0,  0,  0,  0, -1,  0, -1,  6,\n",
       "        0,  0, -1,  1,  0,  0,  0, -1, -1,  0, -1,  0,  0,  0,  0,  0,  0,\n",
       "        0,  0, -1,  0,  0, -1,  0,  0,  0,  0, -1, -1, -1,  0,  0, -1, -1,\n",
       "        0, -1,  0, -1, -1, -1,  0,  3,  2,  3, -1,  0, -1,  0,  0,  0, -1,\n",
       "       -1, -1, -1,  0,  0, -1, -1,  0,  0,  0, -1, -1, -1,  0,  0],\n",
       "      dtype=int64)"
      ]
     },
     "execution_count": 21,
     "metadata": {},
     "output_type": "execute_result"
    }
   ],
   "source": [
    "db.labels_"
   ]
  },
  {
   "cell_type": "code",
   "execution_count": 22,
   "id": "7fd8f2cd",
   "metadata": {
    "ExecuteTime": {
     "end_time": "2023-01-03T10:02:18.482484Z",
     "start_time": "2023-01-03T10:02:18.471057Z"
    }
   },
   "outputs": [],
   "source": [
    "from sklearn.metrics import silhouette_score"
   ]
  },
  {
   "cell_type": "code",
   "execution_count": 23,
   "id": "e3288758",
   "metadata": {
    "ExecuteTime": {
     "end_time": "2023-01-03T10:02:53.582613Z",
     "start_time": "2023-01-03T10:02:53.496250Z"
    }
   },
   "outputs": [
    {
     "data": {
      "text/plain": [
       "-0.1313540815329343"
      ]
     },
     "execution_count": 23,
     "metadata": {},
     "output_type": "execute_result"
    }
   ],
   "source": [
    "silhouette_score(x,db.labels_)"
   ]
  },
  {
   "cell_type": "code",
   "execution_count": 24,
   "id": "f0c70535",
   "metadata": {
    "ExecuteTime": {
     "end_time": "2023-01-03T10:04:23.256771Z",
     "start_time": "2023-01-03T10:04:23.211569Z"
    }
   },
   "outputs": [
    {
     "data": {
      "text/plain": [
       "array([ 0,  0, -1,  0,  0,  0,  0,  0,  0,  0,  0,  0,  0,  0,  0,  0,  0,\n",
       "        0,  0,  0,  0,  0, -1, -1, -1,  0,  0,  0, -1,  0,  0,  0,  0,  0,\n",
       "        0,  0,  0,  0,  0, -1, -1,  0,  0,  0,  0, -1,  0, -1,  0, -1,  0,\n",
       "        0,  0,  0,  0,  0, -1,  0,  0,  0,  0, -1,  0,  0,  0, -1,  0,  0,\n",
       "        0,  0,  0, -1,  0,  0,  0,  0,  0, -1,  0,  0,  0,  0,  0,  0,  0,\n",
       "       -1, -1, -1,  0,  0,  0,  0, -1, -1,  0,  0,  0,  0,  0,  0,  0,  0,\n",
       "        0, -1,  0,  0,  0,  0,  0, -1,  0,  0,  0,  0,  0,  0,  0,  0,  0,\n",
       "        0,  0,  0,  0,  0,  0, -1,  0,  0,  0,  0,  0,  0,  0,  0,  0,  0,\n",
       "        0,  0,  0,  0,  0, -1, -1,  0,  0, -1,  0,  0,  0,  0,  0,  0,  0,\n",
       "        0,  0,  0,  0,  0,  0,  0,  0,  0,  0, -1,  0,  0,  0,  0,  0,  0,\n",
       "        0, -1,  0,  0,  0,  0, -1,  0,  0,  0,  0, -1,  0, -1,  0,  0,  0,\n",
       "        0,  0,  0,  0,  0,  0,  0,  0,  0, -1,  1,  1,  1, -1, -1, -1,  1,\n",
       "        1, -1,  1,  1,  1, -1,  1, -1,  1,  1,  1,  1, -1,  1, -1,  1,  1,\n",
       "        1,  1,  1,  1,  1, -1,  1,  1,  1,  1,  1,  1,  1,  1,  1,  1,  1,\n",
       "        1, -1, -1,  1,  1,  1,  1,  1,  1,  1,  1,  1,  1, -1,  1, -1, -1,\n",
       "        1,  1,  1, -1, -1,  1,  1,  1,  1,  1, -1,  1,  1, -1,  1,  1,  1,\n",
       "        1,  0,  0,  0,  0, -1,  0,  0,  0,  0, -1,  0, -1,  0,  0,  0,  0,\n",
       "        0,  0,  0,  0, -1,  2,  2,  2,  2,  2,  2,  2, -1,  2, -1, -1, -1,\n",
       "       -1,  2,  2, -1,  2, -1, -1,  2,  2, -1,  2,  2,  2, -1,  2,  2,  2,\n",
       "        2,  2, -1,  2,  2,  2,  2,  2, -1,  2, -1, -1, -1,  2,  2, -1,  2,\n",
       "        0,  0,  0, -1,  0,  0,  0,  0,  0,  0,  0,  0,  0,  0,  0,  0,  0,\n",
       "        0, -1,  0,  0,  0,  0,  0,  0,  0,  0,  0,  0,  0,  0,  0,  0,  0,\n",
       "        0,  0,  0,  0,  0,  0,  0,  0,  0,  0, -1,  0,  0,  0,  0,  0,  0,\n",
       "        0,  0,  0,  0,  0,  0,  0,  0,  0,  0,  0,  0,  0,  0,  0,  0,  0,\n",
       "        0,  0,  0,  0,  0, -1,  0,  0,  0,  0,  0,  0,  0,  0,  0,  0,  0,\n",
       "       -1,  0, -1,  0,  0,  0, -1,  0,  0,  0, -1,  0, -1,  0,  0],\n",
       "      dtype=int64)"
      ]
     },
     "execution_count": 24,
     "metadata": {},
     "output_type": "execute_result"
    }
   ],
   "source": [
    "db=DBSCAN(eps=1, min_samples=7)\n",
    "\n",
    "db.fit_predict(x)"
   ]
  },
  {
   "cell_type": "code",
   "execution_count": 25,
   "id": "e7373886",
   "metadata": {
    "ExecuteTime": {
     "end_time": "2023-01-03T10:06:19.977621Z",
     "start_time": "2023-01-03T10:06:19.937260Z"
    }
   },
   "outputs": [
    {
     "data": {
      "text/plain": [
       "0.1194317075194764"
      ]
     },
     "execution_count": 25,
     "metadata": {},
     "output_type": "execute_result"
    }
   ],
   "source": [
    "silhouette_score(x,db.labels_)"
   ]
  },
  {
   "cell_type": "code",
   "execution_count": 30,
   "id": "1c25c38f",
   "metadata": {
    "ExecuteTime": {
     "end_time": "2023-01-03T10:13:23.996217Z",
     "start_time": "2023-01-03T10:13:23.979932Z"
    }
   },
   "outputs": [],
   "source": [
    "df['y']= db.labels_"
   ]
  },
  {
   "cell_type": "code",
   "execution_count": 26,
   "id": "6aa392b7",
   "metadata": {
    "ExecuteTime": {
     "end_time": "2023-01-03T10:07:03.931325Z",
     "start_time": "2023-01-03T10:07:03.903828Z"
    }
   },
   "outputs": [
    {
     "data": {
      "text/html": [
       "<div>\n",
       "<style scoped>\n",
       "    .dataframe tbody tr th:only-of-type {\n",
       "        vertical-align: middle;\n",
       "    }\n",
       "\n",
       "    .dataframe tbody tr th {\n",
       "        vertical-align: top;\n",
       "    }\n",
       "\n",
       "    .dataframe thead th {\n",
       "        text-align: right;\n",
       "    }\n",
       "</style>\n",
       "<table border=\"1\" class=\"dataframe\">\n",
       "  <thead>\n",
       "    <tr style=\"text-align: right;\">\n",
       "      <th></th>\n",
       "      <th>Region</th>\n",
       "      <th>Fresh</th>\n",
       "      <th>Milk</th>\n",
       "      <th>Grocery</th>\n",
       "      <th>Frozen</th>\n",
       "      <th>Detergents_Paper</th>\n",
       "      <th>Delicassen</th>\n",
       "    </tr>\n",
       "    <tr>\n",
       "      <th>Channel</th>\n",
       "      <th></th>\n",
       "      <th></th>\n",
       "      <th></th>\n",
       "      <th></th>\n",
       "      <th></th>\n",
       "      <th></th>\n",
       "      <th></th>\n",
       "    </tr>\n",
       "  </thead>\n",
       "  <tbody>\n",
       "    <tr>\n",
       "      <th>2</th>\n",
       "      <td>3</td>\n",
       "      <td>12669</td>\n",
       "      <td>9656</td>\n",
       "      <td>7561</td>\n",
       "      <td>214</td>\n",
       "      <td>2674</td>\n",
       "      <td>1338</td>\n",
       "    </tr>\n",
       "    <tr>\n",
       "      <th>2</th>\n",
       "      <td>3</td>\n",
       "      <td>7057</td>\n",
       "      <td>9810</td>\n",
       "      <td>9568</td>\n",
       "      <td>1762</td>\n",
       "      <td>3293</td>\n",
       "      <td>1776</td>\n",
       "    </tr>\n",
       "    <tr>\n",
       "      <th>2</th>\n",
       "      <td>3</td>\n",
       "      <td>6353</td>\n",
       "      <td>8808</td>\n",
       "      <td>7684</td>\n",
       "      <td>2405</td>\n",
       "      <td>3516</td>\n",
       "      <td>7844</td>\n",
       "    </tr>\n",
       "    <tr>\n",
       "      <th>1</th>\n",
       "      <td>3</td>\n",
       "      <td>13265</td>\n",
       "      <td>1196</td>\n",
       "      <td>4221</td>\n",
       "      <td>6404</td>\n",
       "      <td>507</td>\n",
       "      <td>1788</td>\n",
       "    </tr>\n",
       "    <tr>\n",
       "      <th>2</th>\n",
       "      <td>3</td>\n",
       "      <td>22615</td>\n",
       "      <td>5410</td>\n",
       "      <td>7198</td>\n",
       "      <td>3915</td>\n",
       "      <td>1777</td>\n",
       "      <td>5185</td>\n",
       "    </tr>\n",
       "    <tr>\n",
       "      <th>...</th>\n",
       "      <td>...</td>\n",
       "      <td>...</td>\n",
       "      <td>...</td>\n",
       "      <td>...</td>\n",
       "      <td>...</td>\n",
       "      <td>...</td>\n",
       "      <td>...</td>\n",
       "    </tr>\n",
       "    <tr>\n",
       "      <th>1</th>\n",
       "      <td>3</td>\n",
       "      <td>29703</td>\n",
       "      <td>12051</td>\n",
       "      <td>16027</td>\n",
       "      <td>13135</td>\n",
       "      <td>182</td>\n",
       "      <td>2204</td>\n",
       "    </tr>\n",
       "    <tr>\n",
       "      <th>1</th>\n",
       "      <td>3</td>\n",
       "      <td>39228</td>\n",
       "      <td>1431</td>\n",
       "      <td>764</td>\n",
       "      <td>4510</td>\n",
       "      <td>93</td>\n",
       "      <td>2346</td>\n",
       "    </tr>\n",
       "    <tr>\n",
       "      <th>2</th>\n",
       "      <td>3</td>\n",
       "      <td>14531</td>\n",
       "      <td>15488</td>\n",
       "      <td>30243</td>\n",
       "      <td>437</td>\n",
       "      <td>14841</td>\n",
       "      <td>1867</td>\n",
       "    </tr>\n",
       "    <tr>\n",
       "      <th>1</th>\n",
       "      <td>3</td>\n",
       "      <td>10290</td>\n",
       "      <td>1981</td>\n",
       "      <td>2232</td>\n",
       "      <td>1038</td>\n",
       "      <td>168</td>\n",
       "      <td>2125</td>\n",
       "    </tr>\n",
       "    <tr>\n",
       "      <th>1</th>\n",
       "      <td>3</td>\n",
       "      <td>2787</td>\n",
       "      <td>1698</td>\n",
       "      <td>2510</td>\n",
       "      <td>65</td>\n",
       "      <td>477</td>\n",
       "      <td>52</td>\n",
       "    </tr>\n",
       "  </tbody>\n",
       "</table>\n",
       "<p>440 rows × 7 columns</p>\n",
       "</div>"
      ],
      "text/plain": [
       "         Region  Fresh   Milk  Grocery  Frozen  Detergents_Paper  Delicassen\n",
       "Channel                                                                     \n",
       "2             3  12669   9656     7561     214              2674        1338\n",
       "2             3   7057   9810     9568    1762              3293        1776\n",
       "2             3   6353   8808     7684    2405              3516        7844\n",
       "1             3  13265   1196     4221    6404               507        1788\n",
       "2             3  22615   5410     7198    3915              1777        5185\n",
       "...         ...    ...    ...      ...     ...               ...         ...\n",
       "1             3  29703  12051    16027   13135               182        2204\n",
       "1             3  39228   1431      764    4510                93        2346\n",
       "2             3  14531  15488    30243     437             14841        1867\n",
       "1             3  10290   1981     2232    1038               168        2125\n",
       "1             3   2787   1698     2510      65               477          52\n",
       "\n",
       "[440 rows x 7 columns]"
      ]
     },
     "execution_count": 26,
     "metadata": {},
     "output_type": "execute_result"
    }
   ],
   "source": [
    "df"
   ]
  },
  {
   "cell_type": "code",
   "execution_count": 31,
   "id": "d9feceeb",
   "metadata": {
    "ExecuteTime": {
     "end_time": "2023-01-03T10:13:33.487066Z",
     "start_time": "2023-01-03T10:13:33.446271Z"
    }
   },
   "outputs": [
    {
     "data": {
      "text/html": [
       "<div>\n",
       "<style scoped>\n",
       "    .dataframe tbody tr th:only-of-type {\n",
       "        vertical-align: middle;\n",
       "    }\n",
       "\n",
       "    .dataframe tbody tr th {\n",
       "        vertical-align: top;\n",
       "    }\n",
       "\n",
       "    .dataframe thead th {\n",
       "        text-align: right;\n",
       "    }\n",
       "</style>\n",
       "<table border=\"1\" class=\"dataframe\">\n",
       "  <thead>\n",
       "    <tr style=\"text-align: right;\">\n",
       "      <th></th>\n",
       "      <th>Region</th>\n",
       "      <th>Fresh</th>\n",
       "      <th>Milk</th>\n",
       "      <th>Grocery</th>\n",
       "      <th>Frozen</th>\n",
       "      <th>Detergents_Paper</th>\n",
       "      <th>Delicassen</th>\n",
       "      <th>y</th>\n",
       "    </tr>\n",
       "    <tr>\n",
       "      <th>Channel</th>\n",
       "      <th></th>\n",
       "      <th></th>\n",
       "      <th></th>\n",
       "      <th></th>\n",
       "      <th></th>\n",
       "      <th></th>\n",
       "      <th></th>\n",
       "      <th></th>\n",
       "    </tr>\n",
       "  </thead>\n",
       "  <tbody>\n",
       "    <tr>\n",
       "      <th>2</th>\n",
       "      <td>3</td>\n",
       "      <td>6353</td>\n",
       "      <td>8808</td>\n",
       "      <td>7684</td>\n",
       "      <td>2405</td>\n",
       "      <td>3516</td>\n",
       "      <td>7844</td>\n",
       "      <td>-1</td>\n",
       "    </tr>\n",
       "    <tr>\n",
       "      <th>1</th>\n",
       "      <td>3</td>\n",
       "      <td>31276</td>\n",
       "      <td>1917</td>\n",
       "      <td>4469</td>\n",
       "      <td>9408</td>\n",
       "      <td>2381</td>\n",
       "      <td>4334</td>\n",
       "      <td>-1</td>\n",
       "    </tr>\n",
       "    <tr>\n",
       "      <th>2</th>\n",
       "      <td>3</td>\n",
       "      <td>26373</td>\n",
       "      <td>36423</td>\n",
       "      <td>22019</td>\n",
       "      <td>5154</td>\n",
       "      <td>4337</td>\n",
       "      <td>16523</td>\n",
       "      <td>-1</td>\n",
       "    </tr>\n",
       "    <tr>\n",
       "      <th>2</th>\n",
       "      <td>3</td>\n",
       "      <td>22647</td>\n",
       "      <td>9776</td>\n",
       "      <td>13792</td>\n",
       "      <td>2915</td>\n",
       "      <td>4482</td>\n",
       "      <td>5778</td>\n",
       "      <td>-1</td>\n",
       "    </tr>\n",
       "    <tr>\n",
       "      <th>2</th>\n",
       "      <td>3</td>\n",
       "      <td>4113</td>\n",
       "      <td>20484</td>\n",
       "      <td>25957</td>\n",
       "      <td>1158</td>\n",
       "      <td>8604</td>\n",
       "      <td>5206</td>\n",
       "      <td>-1</td>\n",
       "    </tr>\n",
       "    <tr>\n",
       "      <th>...</th>\n",
       "      <td>...</td>\n",
       "      <td>...</td>\n",
       "      <td>...</td>\n",
       "      <td>...</td>\n",
       "      <td>...</td>\n",
       "      <td>...</td>\n",
       "      <td>...</td>\n",
       "      <td>...</td>\n",
       "    </tr>\n",
       "    <tr>\n",
       "      <th>1</th>\n",
       "      <td>3</td>\n",
       "      <td>11243</td>\n",
       "      <td>2408</td>\n",
       "      <td>2593</td>\n",
       "      <td>15348</td>\n",
       "      <td>108</td>\n",
       "      <td>1886</td>\n",
       "      <td>-1</td>\n",
       "    </tr>\n",
       "    <tr>\n",
       "      <th>1</th>\n",
       "      <td>3</td>\n",
       "      <td>31012</td>\n",
       "      <td>16687</td>\n",
       "      <td>5429</td>\n",
       "      <td>15082</td>\n",
       "      <td>439</td>\n",
       "      <td>1163</td>\n",
       "      <td>-1</td>\n",
       "    </tr>\n",
       "    <tr>\n",
       "      <th>1</th>\n",
       "      <td>3</td>\n",
       "      <td>8533</td>\n",
       "      <td>5506</td>\n",
       "      <td>5160</td>\n",
       "      <td>13486</td>\n",
       "      <td>1377</td>\n",
       "      <td>1498</td>\n",
       "      <td>-1</td>\n",
       "    </tr>\n",
       "    <tr>\n",
       "      <th>1</th>\n",
       "      <td>3</td>\n",
       "      <td>29703</td>\n",
       "      <td>12051</td>\n",
       "      <td>16027</td>\n",
       "      <td>13135</td>\n",
       "      <td>182</td>\n",
       "      <td>2204</td>\n",
       "      <td>-1</td>\n",
       "    </tr>\n",
       "    <tr>\n",
       "      <th>2</th>\n",
       "      <td>3</td>\n",
       "      <td>14531</td>\n",
       "      <td>15488</td>\n",
       "      <td>30243</td>\n",
       "      <td>437</td>\n",
       "      <td>14841</td>\n",
       "      <td>1867</td>\n",
       "      <td>-1</td>\n",
       "    </tr>\n",
       "  </tbody>\n",
       "</table>\n",
       "<p>79 rows × 8 columns</p>\n",
       "</div>"
      ],
      "text/plain": [
       "         Region  Fresh   Milk  Grocery  Frozen  Detergents_Paper  Delicassen  \\\n",
       "Channel                                                                        \n",
       "2             3   6353   8808     7684    2405              3516        7844   \n",
       "1             3  31276   1917     4469    9408              2381        4334   \n",
       "2             3  26373  36423    22019    5154              4337       16523   \n",
       "2             3  22647   9776    13792    2915              4482        5778   \n",
       "2             3   4113  20484    25957    1158              8604        5206   \n",
       "...         ...    ...    ...      ...     ...               ...         ...   \n",
       "1             3  11243   2408     2593   15348               108        1886   \n",
       "1             3  31012  16687     5429   15082               439        1163   \n",
       "1             3   8533   5506     5160   13486              1377        1498   \n",
       "1             3  29703  12051    16027   13135               182        2204   \n",
       "2             3  14531  15488    30243     437             14841        1867   \n",
       "\n",
       "         y  \n",
       "Channel     \n",
       "2       -1  \n",
       "1       -1  \n",
       "2       -1  \n",
       "2       -1  \n",
       "2       -1  \n",
       "...     ..  \n",
       "1       -1  \n",
       "1       -1  \n",
       "1       -1  \n",
       "1       -1  \n",
       "2       -1  \n",
       "\n",
       "[79 rows x 8 columns]"
      ]
     },
     "execution_count": 31,
     "metadata": {},
     "output_type": "execute_result"
    }
   ],
   "source": [
    "df[df['y']==-1]"
   ]
  },
  {
   "cell_type": "code",
   "execution_count": 32,
   "id": "8e46463b",
   "metadata": {
    "ExecuteTime": {
     "end_time": "2023-01-03T10:15:38.970931Z",
     "start_time": "2023-01-03T10:15:38.919616Z"
    }
   },
   "outputs": [
    {
     "data": {
      "text/html": [
       "<div>\n",
       "<style scoped>\n",
       "    .dataframe tbody tr th:only-of-type {\n",
       "        vertical-align: middle;\n",
       "    }\n",
       "\n",
       "    .dataframe tbody tr th {\n",
       "        vertical-align: top;\n",
       "    }\n",
       "\n",
       "    .dataframe thead th {\n",
       "        text-align: right;\n",
       "    }\n",
       "</style>\n",
       "<table border=\"1\" class=\"dataframe\">\n",
       "  <thead>\n",
       "    <tr style=\"text-align: right;\">\n",
       "      <th></th>\n",
       "      <th>Region</th>\n",
       "      <th>Fresh</th>\n",
       "      <th>Milk</th>\n",
       "      <th>Grocery</th>\n",
       "      <th>Frozen</th>\n",
       "      <th>Detergents_Paper</th>\n",
       "      <th>Delicassen</th>\n",
       "    </tr>\n",
       "    <tr>\n",
       "      <th>y</th>\n",
       "      <th></th>\n",
       "      <th></th>\n",
       "      <th></th>\n",
       "      <th></th>\n",
       "      <th></th>\n",
       "      <th></th>\n",
       "      <th></th>\n",
       "    </tr>\n",
       "  </thead>\n",
       "  <tbody>\n",
       "    <tr>\n",
       "      <th>-1</th>\n",
       "      <td>2.303797</td>\n",
       "      <td>19874.291139</td>\n",
       "      <td>14241.683544</td>\n",
       "      <td>18474.202532</td>\n",
       "      <td>6658.379747</td>\n",
       "      <td>7307.987342</td>\n",
       "      <td>3518.544304</td>\n",
       "    </tr>\n",
       "    <tr>\n",
       "      <th>0</th>\n",
       "      <td>3.000000</td>\n",
       "      <td>10614.717949</td>\n",
       "      <td>4256.326007</td>\n",
       "      <td>6039.904762</td>\n",
       "      <td>2195.985348</td>\n",
       "      <td>2098.025641</td>\n",
       "      <td>1127.344322</td>\n",
       "    </tr>\n",
       "    <tr>\n",
       "      <th>1</th>\n",
       "      <td>1.000000</td>\n",
       "      <td>8734.724138</td>\n",
       "      <td>3396.879310</td>\n",
       "      <td>4443.603448</td>\n",
       "      <td>2427.500000</td>\n",
       "      <td>1492.258621</td>\n",
       "      <td>967.965517</td>\n",
       "    </tr>\n",
       "    <tr>\n",
       "      <th>2</th>\n",
       "      <td>2.000000</td>\n",
       "      <td>10187.666667</td>\n",
       "      <td>2208.933333</td>\n",
       "      <td>4415.900000</td>\n",
       "      <td>2844.633333</td>\n",
       "      <td>1040.466667</td>\n",
       "      <td>969.033333</td>\n",
       "    </tr>\n",
       "  </tbody>\n",
       "</table>\n",
       "</div>"
      ],
      "text/plain": [
       "      Region         Fresh          Milk       Grocery       Frozen  \\\n",
       "y                                                                     \n",
       "-1  2.303797  19874.291139  14241.683544  18474.202532  6658.379747   \n",
       " 0  3.000000  10614.717949   4256.326007   6039.904762  2195.985348   \n",
       " 1  1.000000   8734.724138   3396.879310   4443.603448  2427.500000   \n",
       " 2  2.000000  10187.666667   2208.933333   4415.900000  2844.633333   \n",
       "\n",
       "    Detergents_Paper   Delicassen  \n",
       "y                                  \n",
       "-1       7307.987342  3518.544304  \n",
       " 0       2098.025641  1127.344322  \n",
       " 1       1492.258621   967.965517  \n",
       " 2       1040.466667   969.033333  "
      ]
     },
     "execution_count": 32,
     "metadata": {},
     "output_type": "execute_result"
    }
   ],
   "source": [
    "df.groupby('y').agg('mean')"
   ]
  },
  {
   "cell_type": "code",
   "execution_count": null,
   "id": "66fd4387",
   "metadata": {},
   "outputs": [],
   "source": []
  }
 ],
 "metadata": {
  "kernelspec": {
   "display_name": "Python 3 (ipykernel)",
   "language": "python",
   "name": "python3"
  },
  "language_info": {
   "codemirror_mode": {
    "name": "ipython",
    "version": 3
   },
   "file_extension": ".py",
   "mimetype": "text/x-python",
   "name": "python",
   "nbconvert_exporter": "python",
   "pygments_lexer": "ipython3",
   "version": "3.9.13"
  }
 },
 "nbformat": 4,
 "nbformat_minor": 5
}
